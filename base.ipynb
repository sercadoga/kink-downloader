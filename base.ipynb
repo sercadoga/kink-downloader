{
 "cells": [
  {
   "cell_type": "code",
   "execution_count": 48,
   "id": "initial_id",
   "metadata": {
    "collapsed": true,
    "ExecuteTime": {
     "end_time": "2023-11-30T19:57:32.097247981Z",
     "start_time": "2023-11-30T19:57:32.092247064Z"
    }
   },
   "outputs": [
    {
     "data": {
      "text/plain": "<module 'src.files.video' from '/media/gmagostini/Elements/kink-downloader/src/files/video.py'>"
     },
     "execution_count": 48,
     "metadata": {},
     "output_type": "execute_result"
    }
   ],
   "source": [
    "import os\n",
    "from http.cookiejar import MozillaCookieJar\n",
    "\n",
    "import cloudscraper\n",
    "from bs4 import BeautifulSoup\n",
    "\n",
    "from importlib import reload\n",
    "\n",
    "import src.utility.url_manager as url\n",
    "import src.website.shoot as sh\n",
    "import src.files.video as vd\n",
    "\n",
    "reload(url)\n",
    "reload(sh)\n",
    "reload(vd)"
   ]
  },
  {
   "cell_type": "code",
   "execution_count": 19,
   "outputs": [],
   "source": [
    "cookie_file = os.path.expanduser(\"~/cookies.txt\")\n",
    "base_url = 'www.kink.com'\n",
    "session = cloudscraper.CloudScraper()\n",
    "cookie = MozillaCookieJar(cookie_file)\n",
    "cookie.load(ignore_expires=False, ignore_discard=False)"
   ],
   "metadata": {
    "collapsed": false,
    "ExecuteTime": {
     "end_time": "2023-11-30T19:29:09.451344978Z",
     "start_time": "2023-11-30T19:29:09.440026702Z"
    }
   },
   "id": "7f50e16d9100f485"
  },
  {
   "cell_type": "markdown",
   "source": [
    "#### gallery"
   ],
   "metadata": {
    "collapsed": false
   },
   "id": "f70de44f87d3dbbc"
  },
  {
   "cell_type": "code",
   "execution_count": 20,
   "outputs": [
    {
     "data": {
      "text/plain": "'https://www.kink.com/my/favorite-scenes/page/2/'"
     },
     "execution_count": 20,
     "metadata": {},
     "output_type": "execute_result"
    }
   ],
   "source": [
    "site = url.UrlManager(url.UrlManager.HttpType.HTTPS, base_url, ['my', 'favorite-scenes', 'page', '2'])\n",
    "site.get_url()"
   ],
   "metadata": {
    "collapsed": false,
    "ExecuteTime": {
     "end_time": "2023-11-30T19:29:10.811083232Z",
     "start_time": "2023-11-30T19:29:10.809022476Z"
    }
   },
   "id": "e804be7ae3219e19"
  },
  {
   "cell_type": "code",
   "execution_count": 21,
   "outputs": [],
   "source": [
    "req = session.get(site.get_url(), cookies=cookie)\n",
    "soup = BeautifulSoup(req.text, \"html.parser\")"
   ],
   "metadata": {
    "collapsed": false,
    "ExecuteTime": {
     "end_time": "2023-11-30T19:29:13.178692070Z",
     "start_time": "2023-11-30T19:29:12.426767046Z"
    }
   },
   "id": "f5ba65db3a488828"
  },
  {
   "cell_type": "markdown",
   "source": [
    "number of page in favorite shoot"
   ],
   "metadata": {
    "collapsed": false
   },
   "id": "ab80d9fa760710b9"
  },
  {
   "cell_type": "code",
   "execution_count": 22,
   "outputs": [
    {
     "data": {
      "text/plain": "92"
     },
     "execution_count": 22,
     "metadata": {},
     "output_type": "execute_result"
    }
   ],
   "source": [
    "last_page_of_favorites = soup.select('li.page-item:last-child > a:nth-child(1)')[0].get_text()\n",
    "int(last_page_of_favorites)"
   ],
   "metadata": {
    "collapsed": false,
    "ExecuteTime": {
     "end_time": "2023-11-30T19:29:14.346936711Z",
     "start_time": "2023-11-30T19:29:14.342752468Z"
    }
   },
   "id": "5bff1ce51aaf52b3"
  },
  {
   "cell_type": "code",
   "execution_count": 7,
   "outputs": [],
   "source": [
    "with open(\"output.html\", \"w\") as file:\n",
    "    file.write(str(soup.prettify()))"
   ],
   "metadata": {
    "collapsed": false,
    "ExecuteTime": {
     "end_time": "2023-11-30T19:25:56.131953117Z",
     "start_time": "2023-11-30T19:25:56.119257930Z"
    }
   },
   "id": "a5f501b9a107ed93"
  },
  {
   "cell_type": "code",
   "execution_count": 23,
   "outputs": [],
   "source": [
    "path = os.path.abspath(os.path.join(os.path.abspath(''), '..', 'kink'))\n",
    "element = soup.find_all('a', 'd-block')[0]"
   ],
   "metadata": {
    "collapsed": false,
    "ExecuteTime": {
     "end_time": "2023-11-30T19:29:17.892567865Z",
     "start_time": "2023-11-30T19:29:17.889429836Z"
    }
   },
   "id": "b2ce2a798eb9046d"
  },
  {
   "cell_type": "code",
   "execution_count": 51,
   "outputs": [
    {
     "name": "stdout",
     "output_type": "stream",
     "text": [
      "shoot: <Shoot: 00105011:_______________________________Bad Timing: Hime Marie & Derrick Pierce>\n"
     ]
    }
   ],
   "source": [
    "first = sh.Shoot(href=element.get('href'), cookie=cookie, path=path)"
   ],
   "metadata": {
    "collapsed": false,
    "ExecuteTime": {
     "end_time": "2023-11-30T19:57:41.436667Z",
     "start_time": "2023-11-30T19:57:39.123116943Z"
    }
   },
   "id": "44a1fe2d9313bda3"
  },
  {
   "cell_type": "code",
   "execution_count": 52,
   "outputs": [
    {
     "data": {
      "text/plain": "{'title': 'Bad Timing: Hime Marie & Derrick Pierce',\n 'description': 'Hime Marie is canvasing the neighborhood trying to sell a new makeup line, but knocks onthe wrong door. She catches Derrick in the middle of something she shouldn’t have, so he quicklybrings her in to the house to assess the situation. Hime keeps pressing the issue until Derrick has nochoice but to restrain her and teach her a lesson. She struggles and fights back, but realizes that sheis fighting a losing battle. After a short interrogation, Derrick decides the best way to handle thisis to keep her tied up and fuck all of her holes, especially her ass.',\n 'releasedate': '2023-09-08',\n 'genres': ['Anal',\n  'Athletic',\n  'BDSM',\n  'Beard',\n  'Blowjob',\n  'Bondage',\n  'Brunette',\n  'Circumcised',\n  'Corporal Punishment',\n  'Domination',\n  'Facefucking',\n  'Fingering',\n  'Flogging',\n  'Humiliation',\n  'Muscle',\n  'muscular',\n  'natural boobs',\n  'other hair color',\n  'Petite',\n  'Role Play',\n  'Rope Bondage',\n  'Rough Sex',\n  'shaved',\n  'Straight',\n  'Submission',\n  'Tattoo',\n  'toned',\n  'trimmed',\n  'Vaginal Penetration',\n  'Vibrator',\n  'white'],\n 'actors': ['Derrick Pierce', 'Hime Marie'],\n 'actor_thumbs': ['https://imgopt.kink.com/imagedb/43416/i/h/410/2.jpg?ver=1696003803793',\n  'https://imgopt.kink.com/imagedb/105011/performerImage/101133/hime1_full.png?ver=1694217155151']}"
     },
     "execution_count": 52,
     "metadata": {},
     "output_type": "execute_result"
    }
   ],
   "source": [
    "first.best_metadata"
   ],
   "metadata": {
    "collapsed": false,
    "ExecuteTime": {
     "end_time": "2023-11-30T19:57:42.281424579Z",
     "start_time": "2023-11-30T19:57:42.277386226Z"
    }
   },
   "id": "9525a605a8ddd8da"
  },
  {
   "cell_type": "code",
   "execution_count": 43,
   "outputs": [
    {
     "name": "stdout",
     "output_type": "stream",
     "text": [
      "shoot: <Shoot: 00105011:_______________________________Bad Timing: Hime Marie & Derrick Pierce>\n",
      "shoot: <Shoot: 00027804:_______________________________________________Porcelain Electro Dolls>\n",
      "shoot: <Shoot: 00000009:___________________________________________________________________Ivy>\n",
      "shoot: <Shoot: 00105334:_______________________________Extreme Bondage and Grueling Torment!!!>\n",
      "shoot: <Shoot: 00104080:__________________________________________________Fresh Meat: Lumi Ray>\n",
      "shoot: <Shoot: 00102835:________________________Torrential, Episode 2: Secret Takedown Fantasy>\n",
      "shoot: <Shoot: 00000003:__________________________________________________________________Tina>\n",
      "shoot: <Shoot: 00000002:_________________________________________________________________Paige>\n",
      "shoot: <Shoot: 00040287:____________________Beautiful slut shocked and anally strap-on fucked!>\n",
      "shoot: <Shoot: 00000010:____________________________________________________________Jezzabelle>\n",
      "shoot: <Shoot: 00039690:________________________________Blonde Pixie Gets Fucked Into Oblivion>\n",
      "shoot: <Shoot: 00034858:_________Isis Love returns to double penetrate desperate lesbian slut!>\n",
      "shoot: <Shoot: 00001443:___________________________________________________________________Ivy>\n",
      "shoot: <Shoot: 00104156:______________________________ Red Headed Slut Fucked In Tight Bondage>\n",
      "shoot: <Shoot: 00104911:_______________The Customer is Always Right: Lumi Ray and Tommy Pistol>\n",
      "shoot: <Shoot: 00101571:_______________________________Back to Basics: Real-life BDSM training>\n",
      "shoot: <Shoot: 00039757:__Blonde Pain Slut in Brutal Bondage and Suffering Grueling Punishment>\n",
      "shoot: <Shoot: 00104575:________________Married Couple Loves Sharing Adorable Slut Hazel Paige>\n",
      "shoot: <Shoot: 00034852:________________________________Pain Slut is Ruined by Extreme Torment>\n",
      "shoot: <Shoot: 00034226:__________________Katherine Kane: Champion Anal Electroslut Live Show!>\n"
     ]
    }
   ],
   "source": [
    "shots = [sh.Shoot(href=el.get('href'), cookie=cookie, path=path) for el in soup.select('div.col-sm-6 > div:nth-child(1) > div:nth-child(2) > a')]"
   ],
   "metadata": {
    "collapsed": false,
    "ExecuteTime": {
     "end_time": "2023-11-30T19:41:49.368909653Z",
     "start_time": "2023-11-30T19:41:05.418524870Z"
    }
   },
   "id": "52b4cbd51c016e34"
  },
  {
   "cell_type": "code",
   "execution_count": 44,
   "outputs": [
    {
     "data": {
      "text/plain": "'Bad Timing: Hime Marie & Derrick Pierce'"
     },
     "execution_count": 44,
     "metadata": {},
     "output_type": "execute_result"
    }
   ],
   "source": [
    "shots[0].title"
   ],
   "metadata": {
    "collapsed": false,
    "ExecuteTime": {
     "end_time": "2023-11-30T19:42:52.676567854Z",
     "start_time": "2023-11-30T19:42:52.674112850Z"
    }
   },
   "id": "776aabf4660463e2"
  },
  {
   "cell_type": "code",
   "execution_count": 30,
   "outputs": [
    {
     "data": {
      "text/plain": "20"
     },
     "execution_count": 30,
     "metadata": {},
     "output_type": "execute_result"
    }
   ],
   "source": [
    "len(soup.select('div.col-sm-6 > div:nth-child(1) > div:nth-child(2) > a') )"
   ],
   "metadata": {
    "collapsed": false,
    "ExecuteTime": {
     "end_time": "2023-11-30T19:33:41.034835516Z",
     "start_time": "2023-11-30T19:33:41.030032327Z"
    }
   },
   "id": "e0ae0a96e7ccbaf"
  },
  {
   "cell_type": "code",
   "execution_count": 10,
   "outputs": [],
   "source": [
    "req = session.get(first.get_url(), cookies=cookie)\n",
    "soup = BeautifulSoup(req.text, \"html.parser\")"
   ],
   "metadata": {
    "collapsed": false,
    "ExecuteTime": {
     "end_time": "2023-11-30T19:25:59.622233044Z",
     "start_time": "2023-11-30T19:25:58.079726420Z"
    }
   },
   "id": "a6b80f609be889b7"
  },
  {
   "cell_type": "code",
   "execution_count": 11,
   "outputs": [
    {
     "data": {
      "text/plain": "False"
     },
     "execution_count": 11,
     "metadata": {},
     "output_type": "execute_result"
    }
   ],
   "source": [
    "soup.find_all('h1')[0].get_text() == '404'"
   ],
   "metadata": {
    "collapsed": false,
    "ExecuteTime": {
     "end_time": "2023-11-30T19:25:59.631517553Z",
     "start_time": "2023-11-30T19:25:59.623820773Z"
    }
   },
   "id": "4de12deadaac57f0"
  },
  {
   "cell_type": "code",
   "execution_count": 12,
   "outputs": [
    {
     "data": {
      "text/plain": "'Bad Timing: Hime Marie & Derrick Pierce\\n\\ue800\\n'"
     },
     "execution_count": 12,
     "metadata": {},
     "output_type": "execute_result"
    }
   ],
   "source": [
    "soup.find('h1', 'shoot-title').get_text()"
   ],
   "metadata": {
    "collapsed": false,
    "ExecuteTime": {
     "end_time": "2023-11-30T19:25:59.669437934Z",
     "start_time": "2023-11-30T19:25:59.626037309Z"
    }
   },
   "id": "944d8b605cab8a30"
  },
  {
   "cell_type": "code",
   "execution_count": 13,
   "outputs": [
    {
     "data": {
      "text/plain": "[<Video: 105011 - 480p.mp4>,\n <Video: 105011 - 720p.mp4>,\n <Video: 105011 - 1080p.mp4>]"
     },
     "execution_count": 13,
     "metadata": {},
     "output_type": "execute_result"
    }
   ],
   "source": [
    "videos = [vd.Video(val.get('download'), first.number, val.get('quality'), path) for val in\n",
    "          soup.find_all('a', download=True, quality=True)]\n",
    "videos"
   ],
   "metadata": {
    "collapsed": false,
    "ExecuteTime": {
     "end_time": "2023-11-30T19:25:59.670847185Z",
     "start_time": "2023-11-30T19:25:59.646471905Z"
    }
   },
   "id": "713842ae598505db"
  },
  {
   "cell_type": "code",
   "execution_count": 14,
   "outputs": [],
   "source": [
    "videos[0].download()"
   ],
   "metadata": {
    "collapsed": false,
    "ExecuteTime": {
     "end_time": "2023-11-30T19:25:59.823446143Z",
     "start_time": "2023-11-30T19:25:59.660953860Z"
    }
   },
   "id": "ad26c7049e21bbfa"
  },
  {
   "cell_type": "code",
   "execution_count": 15,
   "outputs": [
    {
     "ename": "AttributeError",
     "evalue": "'Shoot' object has no attribute 'poster'",
     "output_type": "error",
     "traceback": [
      "\u001B[0;31m---------------------------------------------------------------------------\u001B[0m",
      "\u001B[0;31mAttributeError\u001B[0m                            Traceback (most recent call last)",
      "Cell \u001B[0;32mIn[15], line 1\u001B[0m\n\u001B[0;32m----> 1\u001B[0m \u001B[43mfirst\u001B[49m\u001B[38;5;241;43m.\u001B[39;49m\u001B[43mposter\u001B[49m\n",
      "\u001B[0;31mAttributeError\u001B[0m: 'Shoot' object has no attribute 'poster'"
     ]
    }
   ],
   "source": [
    "first.poster"
   ],
   "metadata": {
    "collapsed": false,
    "ExecuteTime": {
     "end_time": "2023-11-30T19:25:59.931044308Z",
     "start_time": "2023-11-30T19:25:59.866601810Z"
    }
   },
   "id": "d3023843324928cd"
  },
  {
   "cell_type": "code",
   "execution_count": null,
   "outputs": [],
   "source": [
    "zip_image = soup.find('a', 'zip-links', download=True).get('download')\n",
    "zip_image"
   ],
   "metadata": {
    "collapsed": false,
    "ExecuteTime": {
     "end_time": "2023-11-30T19:25:59.971747550Z",
     "start_time": "2023-11-30T19:25:59.970722906Z"
    }
   },
   "id": "8c334e014d363ab8"
  },
  {
   "cell_type": "code",
   "execution_count": null,
   "outputs": [],
   "source": [
    "actors = soup.select('.names > a')\n",
    "actors"
   ],
   "metadata": {
    "collapsed": false,
    "ExecuteTime": {
     "start_time": "2023-11-30T19:25:59.971020125Z"
    }
   },
   "id": "f6e73df5ffc10d74"
  },
  {
   "cell_type": "code",
   "execution_count": null,
   "outputs": [],
   "source": [],
   "metadata": {
    "collapsed": false,
    "ExecuteTime": {
     "start_time": "2023-11-30T19:25:59.971154804Z"
    }
   },
   "id": "be5de1ae7dbd3ece"
  }
 ],
 "metadata": {
  "kernelspec": {
   "display_name": "Python 3",
   "language": "python",
   "name": "python3"
  },
  "language_info": {
   "codemirror_mode": {
    "name": "ipython",
    "version": 2
   },
   "file_extension": ".py",
   "mimetype": "text/x-python",
   "name": "python",
   "nbconvert_exporter": "python",
   "pygments_lexer": "ipython2",
   "version": "2.7.6"
  }
 },
 "nbformat": 4,
 "nbformat_minor": 5
}
