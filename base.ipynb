{
 "cells": [
  {
   "cell_type": "code",
   "execution_count": null,
   "outputs": [],
   "source": [
    "import os\n",
    "from http.cookiejar import MozillaCookieJar\n",
    "\n",
    "import cloudscraper\n",
    "from bs4 import BeautifulSoup\n",
    "\n",
    "from importlib import reload\n",
    "\n",
    "import src.utility.url_manager as url\n",
    "import src.website.shoot as sh\n",
    "import src.files.video as vd\n",
    "import src.website.model as md\n",
    "import src.utility.factory as fc\n",
    "\n",
    "reload(url)\n",
    "reload(sh)\n",
    "reload(vd)\n",
    "reload(md)\n",
    "reload(fc)"
   ],
   "metadata": {
    "collapsed": false
   },
   "id": "971cf21928413a52"
  },
  {
   "cell_type": "code",
   "execution_count": null,
   "outputs": [],
   "source": [
    "cookie_file = os.path.expanduser(\"~/cookies.txt\")\n",
    "base_url = 'www.kink.com'\n",
    "session = cloudscraper.CloudScraper()\n",
    "cookie = MozillaCookieJar(cookie_file)\n",
    "cookie.load(ignore_expires=False, ignore_discard=False)"
   ],
   "metadata": {
    "collapsed": false
   },
   "id": "ea6534ab455f19e7"
  },
  {
   "cell_type": "markdown",
   "source": [
    "#### gallery"
   ],
   "metadata": {
    "collapsed": false
   },
   "id": "364ea520ac7098fa"
  },
  {
   "cell_type": "code",
   "execution_count": null,
   "outputs": [],
   "source": [
    "site = url.UrlManager(url.UrlManager.HttpType.HTTPS, base_url, '/my/favorite-scenes')\n",
    "print(site.get_url())\n",
    "req = session.get(site.get_url(), cookies=cookie)\n",
    "soup = BeautifulSoup(req.text, \"html.parser\")\n",
    "last_page_of_favorites_fav = soup.select('li.page-item:last-child > a:nth-child(1)')\n",
    "last_page_of_favorites_gallery = soup.select('.paginated-nav > ul:nth-child(1) > li:nth-child(13) > a:nth-child(1)')\n",
    "if len(last_page_of_favorites_fav):\n",
    "    last_val = last_page_of_favorites_fav[0].get_text()\n",
    "elif len(last_page_of_favorites_gallery):\n",
    "    last_val = last_page_of_favorites_fav[0].get_text()\n",
    "else:\n",
    "    last_val = -1\n",
    "int(last_val)"
   ],
   "metadata": {
    "collapsed": false
   },
   "id": "ee08fd7c7ac7338c"
  },
  {
   "cell_type": "code",
   "execution_count": null,
   "outputs": [],
   "source": [
    "site = url.UrlManager(url.UrlManager.HttpType.HTTPS, base_url,\n",
    "                      'search?type=shoots&channelIds=devicebondage&sort=published')\n",
    "print(site.get_url())\n",
    "req = session.get(site.get_url(), cookies=cookie)\n",
    "soup = BeautifulSoup(req.text, \"html.parser\")\n",
    "last_page_of_favorites_fav = soup.select('li.page-item:last-child > a:nth-child(1)')\n",
    "last_page_of_favorites_gallery = soup.select('.paginated-nav > ul:nth-child(1) > li:last-child > a:nth-child(1)')\n",
    "if len(last_page_of_favorites_fav):\n",
    "    last_val = last_page_of_favorites_fav[0].get_text()\n",
    "elif len(last_page_of_favorites_gallery):\n",
    "    last_val = last_page_of_favorites_gallery[0].get_text()\n",
    "else:\n",
    "    last_val = -1\n",
    "int(last_val)"
   ],
   "metadata": {
    "collapsed": false
   },
   "id": "4b0908452eeedd47"
  },
  {
   "cell_type": "code",
   "execution_count": null,
   "outputs": [],
   "source": [
    "soup.select('.paginated-nav > ul:nth-child(1) > li:nth-child(13) > a:nth-child(1)')"
   ],
   "metadata": {
    "collapsed": false
   },
   "id": "cabb22371b4c493f"
  },
  {
   "cell_type": "code",
   "execution_count": null,
   "outputs": [],
   "source": [
    "with open(\"output.html\", \"w\") as file:\n",
    "    file.write(str(soup.prettify()))"
   ],
   "metadata": {
    "collapsed": false
   },
   "id": "895fdeb92be8b221"
  },
  {
   "cell_type": "markdown",
   "source": [],
   "metadata": {
    "collapsed": false
   },
   "id": "8906f29012999064"
  },
  {
   "cell_type": "code",
   "execution_count": null,
   "outputs": [],
   "source": [
    "path = os.path.abspath(os.path.join(os.path.abspath(''), '..', 'kink'))\n",
    "element = soup.find_all('a', 'd-block')[0]"
   ],
   "metadata": {
    "collapsed": false
   },
   "id": "deaa988b474761b5"
  },
  {
   "cell_type": "code",
   "execution_count": null,
   "outputs": [],
   "source": [
    "first = sh.Shoot(href=element.get('href'), path=path, cookie=cookie, session=session)"
   ],
   "metadata": {
    "collapsed": false
   },
   "id": "6eb0d993517d0968"
  },
  {
   "cell_type": "code",
   "execution_count": null,
   "outputs": [],
   "source": [
    "first.get_data_for_datatable()"
   ],
   "metadata": {
    "collapsed": false
   },
   "id": "5938a9913c13907f"
  },
  {
   "cell_type": "code",
   "execution_count": null,
   "outputs": [],
   "source": [
    "shots = [sh.Shoot(href=el.get('href'), cookie=cookie, path=path) for el in\n",
    "         soup.select('div.col-sm-6 > div:nth-child(1) > div:nth-child(2) > a')]"
   ],
   "metadata": {
    "collapsed": false
   },
   "id": "5e5d0066b62e901a"
  },
  {
   "cell_type": "code",
   "execution_count": null,
   "outputs": [],
   "source": [
    "shots[0].title"
   ],
   "metadata": {
    "collapsed": false
   },
   "id": "da626f358b16aa1f"
  },
  {
   "cell_type": "code",
   "execution_count": null,
   "outputs": [],
   "source": [
    "len(soup.select('div.col-sm-6 > div:nth-child(1) > div:nth-child(2) > a'))"
   ],
   "metadata": {
    "collapsed": false
   },
   "id": "ea550595f57c7181"
  },
  {
   "cell_type": "code",
   "execution_count": null,
   "outputs": [],
   "source": [
    "req = session.get(first.get_url(), cookies=cookie)\n",
    "soup = BeautifulSoup(req.text, \"html.parser\")"
   ],
   "metadata": {
    "collapsed": false
   },
   "id": "28bf778ef1208a25"
  },
  {
   "cell_type": "code",
   "execution_count": null,
   "outputs": [],
   "source": [
    "soup.find_all('h1')[0].get_text() == '404'"
   ],
   "metadata": {
    "collapsed": false
   },
   "id": "7a0c867be66cd103"
  },
  {
   "cell_type": "code",
   "execution_count": null,
   "outputs": [],
   "source": [
    "soup.find('h1', 'shoot-title').get_text()"
   ],
   "metadata": {
    "collapsed": false
   },
   "id": "fe1778a988e4116"
  },
  {
   "cell_type": "code",
   "execution_count": null,
   "outputs": [],
   "source": [
    "videos = [vd.Video(val.get('download'), first.number, val.get('quality'), path) for val in\n",
    "          soup.find_all('a', download=True, quality=True)]\n",
    "videos"
   ],
   "metadata": {
    "collapsed": false
   },
   "id": "2f6490af7540819a"
  },
  {
   "cell_type": "code",
   "execution_count": null,
   "outputs": [],
   "source": [
    "videos[0].download()"
   ],
   "metadata": {
    "collapsed": false
   },
   "id": "91d6c1c521334ae8"
  },
  {
   "cell_type": "code",
   "execution_count": null,
   "outputs": [],
   "source": [
    "first.poster"
   ],
   "metadata": {
    "collapsed": false
   },
   "id": "e61c7eea197659df"
  },
  {
   "cell_type": "code",
   "execution_count": null,
   "outputs": [],
   "source": [
    "zip_image = soup.find('a', 'zip-links', download=True).get('download')\n",
    "zip_image"
   ],
   "metadata": {
    "collapsed": false
   },
   "id": "d44277b55c311712"
  },
  {
   "cell_type": "code",
   "execution_count": null,
   "outputs": [],
   "source": [
    "actors = soup.select('.names > a')\n",
    "actors"
   ],
   "metadata": {
    "collapsed": false
   },
   "id": "c713d0969913fe3"
  },
  {
   "cell_type": "code",
   "execution_count": null,
   "outputs": [],
   "source": [
    "req = session.get(first.get_url(), cookies=cookie)\n",
    "soup = BeautifulSoup(req.text, \"html.parser\")"
   ],
   "metadata": {
    "collapsed": false
   },
   "id": "18fa0781f191bbb8"
  },
  {
   "cell_type": "code",
   "execution_count": null,
   "outputs": [],
   "source": [
    "# description\n",
    "soup.select('.description-text > p:nth-child(1)')[0].get_text()"
   ],
   "metadata": {
    "collapsed": false
   },
   "id": "307322f15d19aeef"
  },
  {
   "cell_type": "code",
   "execution_count": null,
   "outputs": [],
   "source": [
    "models = [md.Model(el.get('href')) for el in soup.select('.names > a')][1]\n",
    "models"
   ],
   "metadata": {
    "collapsed": false
   },
   "id": "11d42e9264207aaa"
  },
  {
   "cell_type": "code",
   "execution_count": null,
   "outputs": [],
   "source": [
    "model = md.Model(\"model/6584/Isis-Love\",cookie=cookie,session=session)\n",
    "model.get_url()"
   ],
   "metadata": {
    "collapsed": false
   },
   "id": "8f3fc8e2d078fd29"
  },
  {
   "cell_type": "code",
   "execution_count": null,
   "outputs": [],
   "source": [
    "req = session.get(model.get_url(), cookies=cookie)\n",
    "model_soup = BeautifulSoup(req.text, \"html.parser\")"
   ],
   "metadata": {
    "collapsed": false
   },
   "id": "b93bcba2e35bf9bb"
  },
  {
   "cell_type": "code",
   "execution_count": null,
   "outputs": [],
   "source": [
    "soup.select('.page-title')[0].get_text().split('\\n')[0].strip()"
   ],
   "metadata": {
    "collapsed": false
   },
   "id": "b7405652ae19a658"
  },
  {
   "cell_type": "code",
   "execution_count": null,
   "outputs": [],
   "source": [
    "if models := soup.select('#expand-text'):\n",
    "    descrition = models[0].get_text()\n",
    "descrition"
   ],
   "metadata": {
    "collapsed": false
   },
   "id": "de5a997c19d0ea11"
  },
  {
   "cell_type": "code",
   "execution_count": null,
   "outputs": [],
   "source": [
    "soup.select('#bioSlider-item0')"
   ],
   "metadata": {
    "collapsed": false
   },
   "id": "3eec27acb8d9a509"
  },
  {
   "cell_type": "code",
   "execution_count": null,
   "outputs": [],
   "source": [
    "[el.get_text() for el in soup.select('.bio-tags > a')]"
   ],
   "metadata": {
    "collapsed": false
   },
   "id": "2969241c92d4e245"
  },
  {
   "cell_type": "code",
   "execution_count": null,
   "outputs": [],
   "source": [
    "[el.get_text() for el in soup.select('a.tag')]"
   ],
   "metadata": {
    "collapsed": false
   },
   "id": "66125791f2162ce8"
  },
  {
   "cell_type": "code",
   "execution_count": null,
   "outputs": [],
   "source": [
    "soup.select('.bio-tags > a')"
   ],
   "metadata": {
    "collapsed": false
   },
   "id": "b510b88c7919b08e"
  },
  {
   "cell_type": "code",
   "execution_count": null,
   "outputs": [],
   "source": [
    "req = session.get(model.get_url(), cookies=cookie)\n",
    "soup = BeautifulSoup(req.text, \"html.parser\")"
   ],
   "metadata": {
    "collapsed": false
   },
   "id": "f60e4f733dc09f8d"
  },
  {
   "cell_type": "code",
   "execution_count": null,
   "outputs": [],
   "source": [
    "model_soup.select('img.bio-slider-img')[0].select('img:first-child')[0].select('img:first-child')[0].select('img:first-child')[0]"
   ],
   "metadata": {
    "collapsed": false
   },
   "id": "cb22dba7c52df041"
  },
  {
   "cell_type": "code",
   "execution_count": null,
   "outputs": [],
   "source": [
    "model = md.Model(\"model/6584/Isis-Love\",cookie=cookie,session=session)\n",
    "req = session.get(model.get_url(), cookies=cookie)\n",
    "model_soup = BeautifulSoup(req.text, \"html.parser\")"
   ],
   "metadata": {
    "collapsed": false
   },
   "id": "209d5abb52603617"
  },
  {
   "cell_type": "code",
   "execution_count": null,
   "outputs": [],
   "source": [
    "model_soup.select('img.bio-slider-img > img:first-child > img:first-child > img:first-child')[0].get('src')"
   ],
   "metadata": {
    "collapsed": false
   },
   "id": "47a80a40c0006f29"
  },
  {
   "cell_type": "code",
   "execution_count": null,
   "outputs": [],
   "source": [
    "model = md.Model(\"model/101133/Hime-Marie\",cookie=cookie,session=session)\n",
    "req = session.get(model.get_url(), cookies=cookie)\n",
    "model_soup = BeautifulSoup(req.text, \"html.parser\")"
   ],
   "metadata": {
    "collapsed": false
   },
   "id": "c4b5b44b3ae7f3e7"
  },
  {
   "cell_type": "code",
   "execution_count": null,
   "outputs": [],
   "source": [
    "model_soup.select('img.bio-img')[0].get('src')"
   ],
   "metadata": {
    "collapsed": false
   },
   "id": "c0f4a18d8d8d99f"
  },
  {
   "cell_type": "code",
   "execution_count": null,
   "outputs": [],
   "source": [
    "req = session.get(first.get_url(), cookies=cookie)\n",
    "soup = BeautifulSoup(req.text, \"html.parser\")"
   ],
   "metadata": {
    "collapsed": false
   },
   "id": "3818de93acaec341"
  },
  {
   "cell_type": "code",
   "execution_count": null,
   "outputs": [],
   "source": [
    "from datetime import datetime\n",
    "\n",
    "text = soup.select('.shoot-date')[0].get_text()\n",
    "shoot_date = datetime.strptime(text, \"%B %d, %Y\")\n",
    "shoot_date.strftime(\"%Y-%m-%d\")"
   ],
   "metadata": {
    "collapsed": false
   },
   "id": "d0897522d37d0014"
  },
  {
   "cell_type": "code",
   "execution_count": null,
   "outputs": [],
   "source": [
    "fc.Factory(path,session,cookie)"
   ],
   "metadata": {
    "collapsed": false
   },
   "id": "348c2783a48b9dd"
  },
  {
   "cell_type": "code",
   "execution_count": null,
   "outputs": [],
   "source": [
    "model.to_json()"
   ],
   "metadata": {
    "collapsed": false
   },
   "id": "e55b8014468beb87"
  },
  {
   "cell_type": "code",
   "execution_count": null,
   "outputs": [],
   "source": [
    "req = session.get(first.get_url(), cookies=cookie)\n",
    "soup_shot = BeautifulSoup(req.text, \"html.parser\")"
   ],
   "metadata": {
    "collapsed": false
   },
   "id": "266fbaaada2d2965"
  },
  {
   "cell_type": "code",
   "execution_count": 221,
   "outputs": [
    {
     "data": {
      "text/plain": "'sex-and-submission'"
     },
     "execution_count": 221,
     "metadata": {},
     "output_type": "execute_result"
    }
   ],
   "source": [
    "if data:=soup_shot.select('.shoot-logo > a:nth-child(1)'):\n",
    "    name = data[0].get('href').split('/')[-1]\n",
    "name"
   ],
   "metadata": {
    "collapsed": false,
    "ExecuteTime": {
     "end_time": "2023-12-03T18:52:28.525623016Z",
     "start_time": "2023-12-03T18:52:28.522669346Z"
    }
   },
   "id": "e8bd3eaf0bdae463"
  }
 ],
 "metadata": {
  "kernelspec": {
   "display_name": "Python 3",
   "language": "python",
   "name": "python3"
  },
  "language_info": {
   "codemirror_mode": {
    "name": "ipython",
    "version": 2
   },
   "file_extension": ".py",
   "mimetype": "text/x-python",
   "name": "python",
   "nbconvert_exporter": "python",
   "pygments_lexer": "ipython2",
   "version": "2.7.6"
  }
 },
 "nbformat": 4,
 "nbformat_minor": 5
}
