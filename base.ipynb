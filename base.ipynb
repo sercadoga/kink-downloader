{
 "cells": [
  {
   "cell_type": "code",
   "execution_count": 15,
   "id": "initial_id",
   "metadata": {
    "collapsed": true,
    "ExecuteTime": {
     "end_time": "2023-12-01T17:21:51.911400018Z",
     "start_time": "2023-12-01T17:21:51.905401879Z"
    }
   },
   "outputs": [
    {
     "data": {
      "text/plain": "<module 'src.files.video' from '/media/gmagostini/Elements/kink-downloader/src/files/video.py'>"
     },
     "execution_count": 15,
     "metadata": {},
     "output_type": "execute_result"
    }
   ],
   "source": [
    "import os\n",
    "from http.cookiejar import MozillaCookieJar\n",
    "\n",
    "import cloudscraper\n",
    "from bs4 import BeautifulSoup\n",
    "\n",
    "from importlib import reload\n",
    "\n",
    "import src.utility.url_manager as url\n",
    "import src.website.shoot as sh\n",
    "import src.files.video as vd\n",
    "\n",
    "reload(url)\n",
    "reload(sh)\n",
    "reload(vd)"
   ]
  },
  {
   "cell_type": "code",
   "execution_count": 2,
   "outputs": [],
   "source": [
    "cookie_file = os.path.expanduser(\"~/cookies.txt\")\n",
    "base_url = 'www.kink.com'\n",
    "session = cloudscraper.CloudScraper()\n",
    "cookie = MozillaCookieJar(cookie_file)\n",
    "cookie.load(ignore_expires=False, ignore_discard=False)"
   ],
   "metadata": {
    "collapsed": false,
    "ExecuteTime": {
     "end_time": "2023-12-01T17:10:38.575897388Z",
     "start_time": "2023-12-01T17:10:38.573006877Z"
    }
   },
   "id": "7f50e16d9100f485"
  },
  {
   "cell_type": "markdown",
   "source": [
    "#### gallery"
   ],
   "metadata": {
    "collapsed": false
   },
   "id": "f70de44f87d3dbbc"
  },
  {
   "cell_type": "code",
   "execution_count": 3,
   "outputs": [
    {
     "data": {
      "text/plain": "'https://www.kink.com/my/favorite-scenes/page/2/'"
     },
     "execution_count": 3,
     "metadata": {},
     "output_type": "execute_result"
    }
   ],
   "source": [
    "site = url.UrlManager(url.UrlManager.HttpType.HTTPS, base_url, ['my', 'favorite-scenes', 'page', '2'])\n",
    "site.get_url()"
   ],
   "metadata": {
    "collapsed": false,
    "ExecuteTime": {
     "end_time": "2023-12-01T17:10:38.576525133Z",
     "start_time": "2023-12-01T17:10:38.573279035Z"
    }
   },
   "id": "e804be7ae3219e19"
  },
  {
   "cell_type": "code",
   "execution_count": 4,
   "outputs": [],
   "source": [
    "req = session.get(site.get_url(), cookies=cookie)\n",
    "soup = BeautifulSoup(req.text, \"html.parser\")"
   ],
   "metadata": {
    "collapsed": false,
    "ExecuteTime": {
     "end_time": "2023-12-01T17:10:39.209766268Z",
     "start_time": "2023-12-01T17:10:38.573484504Z"
    }
   },
   "id": "f5ba65db3a488828"
  },
  {
   "cell_type": "markdown",
   "source": [
    "number of page in favorite shoot"
   ],
   "metadata": {
    "collapsed": false
   },
   "id": "ab80d9fa760710b9"
  },
  {
   "cell_type": "code",
   "execution_count": 5,
   "outputs": [
    {
     "data": {
      "text/plain": "92"
     },
     "execution_count": 5,
     "metadata": {},
     "output_type": "execute_result"
    }
   ],
   "source": [
    "last_page_of_favorites = soup.select('li.page-item:last-child > a:nth-child(1)')[0].get_text()\n",
    "int(last_page_of_favorites)"
   ],
   "metadata": {
    "collapsed": false,
    "ExecuteTime": {
     "end_time": "2023-12-01T17:10:39.223767584Z",
     "start_time": "2023-12-01T17:10:39.214314708Z"
    }
   },
   "id": "5bff1ce51aaf52b3"
  },
  {
   "cell_type": "code",
   "execution_count": 6,
   "outputs": [],
   "source": [
    "with open(\"output.html\", \"w\") as file:\n",
    "    file.write(str(soup.prettify()))"
   ],
   "metadata": {
    "collapsed": false,
    "ExecuteTime": {
     "end_time": "2023-12-01T17:10:39.255221693Z",
     "start_time": "2023-12-01T17:10:39.217053450Z"
    }
   },
   "id": "a5f501b9a107ed93"
  },
  {
   "cell_type": "code",
   "execution_count": 7,
   "outputs": [],
   "source": [
    "path = os.path.abspath(os.path.join(os.path.abspath(''), '..', 'kink'))\n",
    "element = soup.find_all('a', 'd-block')[0]"
   ],
   "metadata": {
    "collapsed": false,
    "ExecuteTime": {
     "end_time": "2023-12-01T17:10:39.270697028Z",
     "start_time": "2023-12-01T17:10:39.252024045Z"
    }
   },
   "id": "b2ce2a798eb9046d"
  },
  {
   "cell_type": "code",
   "execution_count": 16,
   "outputs": [
    {
     "name": "stdout",
     "output_type": "stream",
     "text": [
      "shoot: <Shoot: 00034226:__________________Katherine Kane: Champion Anal Electroslut Live Show!>\n"
     ]
    }
   ],
   "source": [
    "first = sh.Shoot(href=element.get('href'), cookie=cookie, path=path)"
   ],
   "metadata": {
    "collapsed": false,
    "ExecuteTime": {
     "end_time": "2023-12-01T17:21:55.899605752Z",
     "start_time": "2023-12-01T17:21:54.430064125Z"
    }
   },
   "id": "44a1fe2d9313bda3"
  },
  {
   "cell_type": "code",
   "execution_count": 17,
   "outputs": [
    {
     "data": {
      "text/plain": "{'number': '34226',\n 'title': 'Katherine Kane: Champion Anal Electroslut Live Show!',\n 'description': None,\n 'quality': '720',\n 'video': 'https://cdn.kink.com/electrosluts/members/34226/video/h264/full/34226_Katharine_Aiden.mp4?nva=1701454915&token=3699e8fd3ab9814ef655aabc5556de12',\n 'poster': <Poster: 34226 - 720p.jpg>,\n 'zip_image': <ZipFile: 34226.zip>}"
     },
     "execution_count": 17,
     "metadata": {},
     "output_type": "execute_result"
    }
   ],
   "source": [
    "first.get_data_for_datatable()"
   ],
   "metadata": {
    "collapsed": false,
    "ExecuteTime": {
     "end_time": "2023-12-01T17:21:56.683248476Z",
     "start_time": "2023-12-01T17:21:56.680365056Z"
    }
   },
   "id": "9525a605a8ddd8da"
  },
  {
   "cell_type": "code",
   "execution_count": null,
   "outputs": [],
   "source": [
    "shots = [sh.Shoot(href=el.get('href'), cookie=cookie, path=path) for el in soup.select('div.col-sm-6 > div:nth-child(1) > div:nth-child(2) > a')]"
   ],
   "metadata": {
    "collapsed": false,
    "ExecuteTime": {
     "start_time": "2023-12-01T17:10:39.461253419Z"
    }
   },
   "id": "52b4cbd51c016e34"
  },
  {
   "cell_type": "code",
   "execution_count": null,
   "outputs": [],
   "source": [
    "shots[0].title"
   ],
   "metadata": {
    "collapsed": false,
    "ExecuteTime": {
     "start_time": "2023-12-01T17:10:39.461422837Z"
    }
   },
   "id": "776aabf4660463e2"
  },
  {
   "cell_type": "code",
   "execution_count": null,
   "outputs": [],
   "source": [
    "len(soup.select('div.col-sm-6 > div:nth-child(1) > div:nth-child(2) > a') )"
   ],
   "metadata": {
    "collapsed": false,
    "ExecuteTime": {
     "start_time": "2023-12-01T17:10:39.461554877Z"
    }
   },
   "id": "e0ae0a96e7ccbaf"
  },
  {
   "cell_type": "code",
   "execution_count": null,
   "outputs": [],
   "source": [
    "req = session.get(first.get_url(), cookies=cookie)\n",
    "soup = BeautifulSoup(req.text, \"html.parser\")"
   ],
   "metadata": {
    "collapsed": false,
    "ExecuteTime": {
     "start_time": "2023-12-01T17:10:39.462326191Z"
    }
   },
   "id": "a6b80f609be889b7"
  },
  {
   "cell_type": "code",
   "execution_count": null,
   "outputs": [],
   "source": [
    "soup.find_all('h1')[0].get_text() == '404'"
   ],
   "metadata": {
    "collapsed": false,
    "ExecuteTime": {
     "start_time": "2023-12-01T17:10:39.462482960Z"
    }
   },
   "id": "4de12deadaac57f0"
  },
  {
   "cell_type": "code",
   "execution_count": null,
   "outputs": [],
   "source": [
    "soup.find('h1', 'shoot-title').get_text()"
   ],
   "metadata": {
    "collapsed": false,
    "ExecuteTime": {
     "start_time": "2023-12-01T17:10:39.462593320Z"
    }
   },
   "id": "944d8b605cab8a30"
  },
  {
   "cell_type": "code",
   "execution_count": null,
   "outputs": [],
   "source": [
    "videos = [vd.Video(val.get('download'), first.number, val.get('quality'), path) for val in\n",
    "          soup.find_all('a', download=True, quality=True)]\n",
    "videos"
   ],
   "metadata": {
    "collapsed": false,
    "ExecuteTime": {
     "start_time": "2023-12-01T17:10:39.462677739Z"
    }
   },
   "id": "713842ae598505db"
  },
  {
   "cell_type": "code",
   "execution_count": null,
   "outputs": [],
   "source": [
    "videos[0].download()"
   ],
   "metadata": {
    "collapsed": false,
    "ExecuteTime": {
     "start_time": "2023-12-01T17:10:39.462761368Z"
    }
   },
   "id": "ad26c7049e21bbfa"
  },
  {
   "cell_type": "code",
   "execution_count": null,
   "outputs": [],
   "source": [
    "first.poster"
   ],
   "metadata": {
    "collapsed": false,
    "ExecuteTime": {
     "start_time": "2023-12-01T17:10:39.462847058Z"
    }
   },
   "id": "d3023843324928cd"
  },
  {
   "cell_type": "code",
   "execution_count": null,
   "outputs": [],
   "source": [
    "zip_image = soup.find('a', 'zip-links', download=True).get('download')\n",
    "zip_image"
   ],
   "metadata": {
    "collapsed": false,
    "ExecuteTime": {
     "start_time": "2023-12-01T17:10:39.462924957Z"
    }
   },
   "id": "8c334e014d363ab8"
  },
  {
   "cell_type": "code",
   "execution_count": null,
   "outputs": [],
   "source": [
    "actors = soup.select('.names > a')\n",
    "actors"
   ],
   "metadata": {
    "collapsed": false,
    "ExecuteTime": {
     "start_time": "2023-12-01T17:10:39.463003087Z"
    }
   },
   "id": "f6e73df5ffc10d74"
  },
  {
   "cell_type": "code",
   "execution_count": null,
   "outputs": [],
   "source": [],
   "metadata": {
    "collapsed": false,
    "ExecuteTime": {
     "start_time": "2023-12-01T17:10:39.463090406Z"
    }
   },
   "id": "be5de1ae7dbd3ece"
  }
 ],
 "metadata": {
  "kernelspec": {
   "display_name": "Python 3",
   "language": "python",
   "name": "python3"
  },
  "language_info": {
   "codemirror_mode": {
    "name": "ipython",
    "version": 2
   },
   "file_extension": ".py",
   "mimetype": "text/x-python",
   "name": "python",
   "nbconvert_exporter": "python",
   "pygments_lexer": "ipython2",
   "version": "2.7.6"
  }
 },
 "nbformat": 4,
 "nbformat_minor": 5
}
